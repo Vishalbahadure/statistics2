{
 "cells": [
  {
   "cell_type": "markdown",
   "metadata": {},
   "source": [
    "Q1. What are the three measures of central tendency?\n",
    "measure of central tendency is measure the center of distribution of data\n",
    "1.mean:\n",
    "  sum of all data point and then divide with number of data point\n",
    "  ex.data=[5,3,2,5,10,8,7,]\n",
    "     [5+3+2+5+10+8+7]/7\n",
    "      = 34 it is mean\n",
    "\n",
    "2.median:\n",
    "middle value of data\n",
    "x=[1,2,3,4,5]\n",
    "median is 5\n",
    "\n",
    "3.mode:\n",
    " most frequently value\n",
    " x=[1.2,2,3,3,4,2,5,2]\n",
    " mode is 2"
   ]
  },
  {
   "cell_type": "markdown",
   "metadata": {},
   "source": [
    "Q2. What is the difference between the mean, median, and mode? How are they used to measure the\n",
    "central tendency of a dataset?\n",
    "Mean: Provides a single summary statistic but can be misleading in skewed distributions or with outliers.\n",
    "Median: Gives a better measure of the central tendency in skewed distributions and is useful when the data contains outliers.\n",
    "Mode: Offers insight into the most common value in the dataset, which can be especially useful in categorical data analysis.\n",
    "[2, 3, 3, 5, 7, 10, 100]\n",
    "\n",
    "Mean: \n",
    "2+3+3+5+7+10+100/7\n",
    "​\n",
    " 16.43 (affected by the outlier 100)\n",
    "Median: Middle value = 5 (better representation of the dataset’s center)\n",
    "Mode: 3 (the most frequently occurring value)"
   ]
  },
  {
   "cell_type": "markdown",
   "metadata": {},
   "source": [
    "Q3. Measure the three measures of central tendency for the given height data:\n",
    "[178,177,176,177,178.2,178,175,179,180,175,178.9,176.2,177,172.5,178,176.5]\n",
    "1.mean:\n",
    " data=[178,177,176,177,178.2,178,175,179,180,175,178.9,176.2,177,172.5,178,176.5]\n",
    " mean is 177.01 app\n",
    "\n",
    " 2.median:\n",
    " median is 177\n",
    "\n",
    " 3.mode:\n",
    " mode is 177\n",
    " \n",
    "  "
   ]
  },
  {
   "cell_type": "code",
   "execution_count": 1,
   "metadata": {},
   "outputs": [
    {
     "data": {
      "text/plain": [
       "np.float64(1.7885814036548633)"
      ]
     },
     "execution_count": 1,
     "metadata": {},
     "output_type": "execute_result"
    }
   ],
   "source": [
    "import numpy as np\n",
    "data=[178,177,176,177,178.2,178,175,179,180,175,178.9,176.2,177,172.5,178,176.5]\n",
    "##np.mean(data)\n",
    "##np.median(data)\n",
    "from scipy import stats\n",
    "##stats.mode(data)\n",
    "np.std(data)\n"
   ]
  },
  {
   "cell_type": "markdown",
   "metadata": {},
   "source": [
    "Q4. Find the standard deviation for the given data:\n",
    "[178,177,176,177,178.2,178,175,179,180,175,178.9,176.2,177,172.5,178,176.5]\n",
    "std is 1.7558"
   ]
  },
  {
   "cell_type": "markdown",
   "metadata": {},
   "source": [
    "Q5. How are measures of dispersion such as range, variance, and standard deviation used to describe\n",
    "the spread of a dataset? Provide an example.\n",
    "measure of dispersion means how our data are spread and which type they spread \n",
    "range:\n",
    "it means maximum - minimum\n",
    "x=[10,20,30,40,50,60]\n",
    "60-10\n",
    "=50 \n",
    "this is range of x dataset\n",
    "variance :\n",
    "variance means spread of data\n",
    "means of x =35\n",
    "variance of x=291.66\n",
    "std=17.04\n",
    "Variance provides insight into average squared deviations from the mean.\n",
    "Standard Deviation is more interpretable than variance, showing the typical deviation in data points from the mean.\n",
    "\n",
    "\n"
   ]
  },
  {
   "cell_type": "markdown",
   "metadata": {},
   "source": [
    "Q6. What is a Venn diagram?\n",
    "venn diagram mean its visual representation of relationship between two different set or group\n",
    "used the circle for represent\n"
   ]
  },
  {
   "cell_type": "markdown",
   "metadata": {},
   "source": [
    "Q7. For the two given sets A = (2,3,4,5,6,7) & B = (0,2,6,8,10). Find:\n",
    "(i) AnB:\n",
    "(2,6)\n",
    "\n",
    "(ii) A ⋃ B:\n",
    "(0,2,3,4,5,6,7,8,10)\n"
   ]
  },
  {
   "cell_type": "markdown",
   "metadata": {},
   "source": [
    "Q8. What do you understand about skewness in data?\n",
    "Skewness is a measure of the asymmetry in the distribution of values within a dataset. It describes whether the data points are spread more to the left or the right of the mean, indicating the shape of the distribution curve.\n",
    "right skewness :\n",
    "it means more data are present in right side \n",
    "its knowns as positive  \n",
    "right skewness is called is log normal distrubtion\n",
    "\n",
    "left skewness:\n",
    "it means more data are peesent in left side\n",
    "negative skewness\n",
    "Overall, skewness is a crucial indicator of the distribution shape, providing insights into how data is distributed around its central values and assisting in selecting the best descriptive or analytical methods for accurate interpretation.\n"
   ]
  },
  {
   "cell_type": "markdown",
   "metadata": {},
   "source": [
    "Q9. If a data is right skewed then what will be the position of median with respect to mean?\n",
    "Mean: The mean is typically greater than the median in a right-skewed distribution.\n",
    "Median: The median is located to the left of the mean."
   ]
  },
  {
   "cell_type": "markdown",
   "metadata": {},
   "source": [
    "Q10. Explain the difference between covariance and correlation. How are these measures used in\n",
    "statistical analysis?\n",
    "both are measure relationship between x and y variable in dataset\n",
    "\n",
    "Covariance: Used in portfolio theory and risk assessment to analyze how asset prices move in relation to each other.\n",
    "Correlation: Widely used in statistical analysis, research, and machine learning to measure and compare relationships between variables, feature selection, or model building.\n"
   ]
  },
  {
   "cell_type": "markdown",
   "metadata": {},
   "source": [
    "Q11. What is the formula for calculating the sample mean? Provide an example calculation for a\n",
    "dataset.\n",
    "Mean: \n",
    "2+3+3+5+7+10+100/7\n",
    "16\n"
   ]
  },
  {
   "cell_type": "markdown",
   "metadata": {},
   "source": [
    "Q12. For a normal distribution data what is the relationship between its measure of central tendency?\n",
    " for a normal distribution, the mean, median, and mode are all equal and located at the center of the distribution, reflecting the symmetrical nature of the data. This relationship is fundamental in statistics and helps in understanding data that follow a normal distribution pattern."
   ]
  },
  {
   "cell_type": "markdown",
   "metadata": {},
   "source": [
    "Q13. How is covariance different from correlation?\n",
    "Covariance and correlation are both statistical measures that describe the relationship between two variables, but they differ in several important ways. Here’s a breakdown of their differences:\n",
    "Covariance: Covariance measures the degree to which two variables change together. It indicates the direction of the linear relationship between the variables (positive or negative).\n",
    "\n",
    "Correlation: Correlation measures both the strength and direction of the linear relationship between two variables. It standardizes the measure, making it easier to interpret."
   ]
  },
  {
   "cell_type": "markdown",
   "metadata": {},
   "source": [
    "Q14. How do outliers affect measures of central tendency and dispersion? Provide an example.\n",
    "Outliers can skew the mean and inflate the range, variance, and standard deviation, leading to misleading conclusions about the dataset. Conversely, the median and mode remain more stable and robust measures of central tendency in the presence of outliers. Thus, it is essential to identify and consider the effect of outliers when analyzing datasets to ensure accurate interpretations.S"
   ]
  }
 ],
 "metadata": {
  "kernelspec": {
   "display_name": "Python 3",
   "language": "python",
   "name": "python3"
  },
  "language_info": {
   "codemirror_mode": {
    "name": "ipython",
    "version": 3
   },
   "file_extension": ".py",
   "mimetype": "text/x-python",
   "name": "python",
   "nbconvert_exporter": "python",
   "pygments_lexer": "ipython3",
   "version": "3.12.6"
  }
 },
 "nbformat": 4,
 "nbformat_minor": 2
}
